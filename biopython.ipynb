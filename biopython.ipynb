{
 "cells": [
  {
   "cell_type": "markdown",
   "metadata": {},
   "source": [
    "# Introdução a biopython \n"
   ]
  },
  {
   "cell_type": "code",
   "execution_count": 1,
   "metadata": {},
   "outputs": [
    {
     "name": "stdout",
     "output_type": "stream",
     "text": [
      "Hello infobio\n"
     ]
    }
   ],
   "source": [
    "print(\"Hello infobio\")"
   ]
  },
  {
   "cell_type": "code",
   "execution_count": 2,
   "metadata": {},
   "outputs": [
    {
     "name": "stdout",
     "output_type": "stream",
     "text": [
      "a:  15\n",
      "a:  infobio\n",
      "a e b:  infobio 5\n"
     ]
    }
   ],
   "source": [
    "#Dinamicamente tipada\n",
    "#python é case sensitive\n",
    "a=10\n",
    "b=5\n",
    "a=b+a\n",
    "print(\"a: \",a)\n",
    "a=\"infobio\"\n",
    "print(\"a: \",a)\n",
    "print(\"a e b: \", a, b)"
   ]
  },
  {
   "cell_type": "code",
   "execution_count": 3,
   "metadata": {},
   "outputs": [
    {
     "name": "stdout",
     "output_type": "stream",
     "text": [
      "False True\n"
     ]
    }
   ],
   "source": [
    "resultado = False\n",
    "\n",
    "aprovado = True\n",
    "\n",
    "print(resultado, aprovado)"
   ]
  },
  {
   "cell_type": "code",
   "execution_count": 4,
   "metadata": {},
   "outputs": [
    {
     "data": {
      "text/plain": [
       "False"
      ]
     },
     "execution_count": 4,
     "metadata": {},
     "output_type": "execute_result"
    }
   ],
   "source": [
    "#exemplo com operadores logicos\n",
    "salario = 1000\n",
    "imposto = 1200\n",
    "\n",
    "paga = (salario > imposto)\n",
    "paga"
   ]
  },
  {
   "cell_type": "code",
   "execution_count": 5,
   "metadata": {},
   "outputs": [
    {
     "name": "stdout",
     "output_type": "stream",
     "text": [
      "i\n",
      "n\n",
      "i\n"
     ]
    }
   ],
   "source": [
    "#manipulação de strings\n",
    "\n",
    "a=\"infobio\"\n",
    "print(a[0])\n",
    "print(a[1])\n",
    "print(a[5])"
   ]
  },
  {
   "cell_type": "code",
   "execution_count": 6,
   "metadata": {},
   "outputs": [
    {
     "name": "stdout",
     "output_type": "stream",
     "text": [
      "Informatica \n",
      "iomedica\n",
      "Informatica \n",
      "iomedica\n",
      "Informatica biomedi\n",
      "a\n"
     ]
    }
   ],
   "source": [
    "#fatiamento\n",
    "\n",
    "curso = \"Informatica biomedica\"\n",
    "print(curso[0:12])\n",
    "print(curso[13:21])\n",
    "print(curso[:12])\n",
    "print(curso[13:])\n",
    "print(curso[0:-2]) #toda a string ate as duas ultimas strings (penultima)\n",
    "print(curso[-1]) #ultima posição da string\n",
    "\n",
    "\n"
   ]
  },
  {
   "cell_type": "code",
   "execution_count": 7,
   "metadata": {},
   "outputs": [
    {
     "data": {
      "text/plain": [
       "False"
      ]
     },
     "execution_count": 7,
     "metadata": {},
     "output_type": "execute_result"
    }
   ],
   "source": [
    "\"Bio\" in curso"
   ]
  },
  {
   "cell_type": "code",
   "execution_count": 8,
   "metadata": {},
   "outputs": [
    {
     "data": {
      "text/plain": [
       "True"
      ]
     },
     "execution_count": 8,
     "metadata": {},
     "output_type": "execute_result"
    }
   ],
   "source": [
    "\"Bio\" not in curso"
   ]
  },
  {
   "cell_type": "code",
   "execution_count": null,
   "metadata": {},
   "outputs": [],
   "source": []
  }
 ],
 "metadata": {
  "kernelspec": {
   "display_name": "Python 3",
   "language": "python",
   "name": "python3"
  },
  "language_info": {
   "codemirror_mode": {
    "name": "ipython",
    "version": 3
   },
   "file_extension": ".py",
   "mimetype": "text/x-python",
   "name": "python",
   "nbconvert_exporter": "python",
   "pygments_lexer": "ipython3",
   "version": "3.6.2"
  }
 },
 "nbformat": 4,
 "nbformat_minor": 2
}
